{
 "cells": [
  {
   "cell_type": "code",
   "execution_count": 11,
   "metadata": {},
   "outputs": [],
   "source": [
    "!rm -r model1"
   ]
  },
  {
   "cell_type": "code",
   "execution_count": 3,
   "metadata": {},
   "outputs": [],
   "source": [
    "import os\n",
    "import random\n",
    "import time\n",
    "\n",
    "import numpy as np\n",
    "import pandas as pd\n",
    "\n",
    "from matplotlib import pyplot\n",
    "from PIL import Image,ImageTk\n",
    "\n",
    "from tkinter import Tk,Frame,Label,IntVar,Radiobutton,Canvas,Button\n",
    "\n",
    "import warnings\n",
    "warnings.filterwarnings('ignore')\n",
    "%matplotlib inline"
   ]
  },
  {
   "cell_type": "code",
   "execution_count": 4,
   "metadata": {},
   "outputs": [],
   "source": [
    "from sklearn.cluster import KMeans\n",
    "\n",
    "embeds_file = \"embedings.npy\"\n",
    "\n",
    "embeds = np.load(embeds_file)\n",
    "\n",
    "num_clusters = 50"
   ]
  },
  {
   "cell_type": "code",
   "execution_count": 14,
   "metadata": {},
   "outputs": [],
   "source": [
    "cluster = KMeans(num_clusters, random_state=13)\n",
    "cluster.fit(embeds)\n",
    "\n",
    "df = pd.read_csv(\"embedings.csv\")\n",
    "img_paths = df[\"img_path\"]\n",
    "\n",
    "labels = cluster.labels_"
   ]
  },
  {
   "cell_type": "code",
   "execution_count": 15,
   "metadata": {},
   "outputs": [
    {
     "data": {
      "text/plain": [
       "0    ./16k_images/B06XBYTSNM.jpeg\n",
       "1    ./16k_images/B074W35Z7F.jpeg\n",
       "2    ./16k_images/B01LWJWB64.jpeg\n",
       "3    ./16k_images/B01MDK2HIR.jpeg\n",
       "4    ./16k_images/B072DZS2YB.jpeg\n",
       "Name: img_path, dtype: object"
      ]
     },
     "execution_count": 15,
     "metadata": {},
     "output_type": "execute_result"
    }
   ],
   "source": [
    "img_paths.head()"
   ]
  },
  {
   "cell_type": "code",
   "execution_count": 16,
   "metadata": {},
   "outputs": [
    {
     "name": "stdout",
     "output_type": "stream",
     "text": [
      "(15990, 1280)\n"
     ]
    }
   ],
   "source": [
    "print(embeds.shape)"
   ]
  },
  {
   "cell_type": "code",
   "execution_count": 17,
   "metadata": {},
   "outputs": [],
   "source": [
    "os.makedirs(\"./model1/clusters\")\n",
    "for i in range(num_clusters):\n",
    "    os.makedirs(\"./model1/clusters/cluster \"+str(i),exist_ok=True)\n",
    "    for j in range(embeds.shape[0]):\n",
    "        if labels[j] == i:\n",
    "            img = Image.open(img_paths[j])\n",
    "            img.save(\"./model1/clusters/cluster \"+str(i)+\"/\"+str(j)+\".jpeg\")"
   ]
  },
  {
   "cell_type": "code",
   "execution_count": 5,
   "metadata": {},
   "outputs": [
    {
     "data": {
      "text/plain": [
       "(40,)"
      ]
     },
     "execution_count": 5,
     "metadata": {},
     "output_type": "execute_result"
    }
   ],
   "source": [
    "prob_dis = []\n",
    "a = [0 for i in range(num_clusters)]\n",
    "prob_dis.extend(a)\n",
    "\n",
    "prob_dis = np.array(prob_dis)\n",
    "prob_cdf = np.cumsum(prob_dis)\n",
    "\n",
    "prob_cdf.shape"
   ]
  },
  {
   "cell_type": "code",
   "execution_count": 6,
   "metadata": {},
   "outputs": [
    {
     "name": "stdout",
     "output_type": "stream",
     "text": [
      "Average time per frame: 0.02404072880744934\n",
      "Median time for frame: 0.020844101905822754\n"
     ]
    }
   ],
   "source": [
    "win = Tk()\n",
    "win.geometry(\"1920x1080\")\n",
    "\n",
    "v1 = IntVar(win, 1)\n",
    "v2 = IntVar(win, 1)\n",
    "v3 = IntVar(win, 1)\n",
    "v4 = IntVar(win, 1)\n",
    "\n",
    "clusters = [0 for i in range(4)]\n",
    "\n",
    "started = False\n",
    "\n",
    "out_chance = 0.1\n",
    "\n",
    "net_penality = 1\n",
    "net_reward = 1\n",
    "penality = 1\n",
    "reward = 1\n",
    "\n",
    "l1 = 0.7\n",
    "l2 = 0.85\n",
    "l3 = 0.97\n",
    "l4 = 1\n",
    "\n",
    "labels = list()\n",
    "\n",
    "times = list()\n",
    "\n",
    "def show_suggestions():\n",
    "    start = time.time()\n",
    "\n",
    "    images = list()\n",
    "\n",
    "    for lab in labels:\n",
    "        lab.destroy()\n",
    "\n",
    "    ind = np.argpartition(prob_dis,-4)[-4:]\n",
    "    #print(clusters,ind)\n",
    "    if started:\n",
    "        #print(prob_dis)\n",
    "        \n",
    "        vs = [v1.get(), v2.get(), v3.get(), v4.get()]\n",
    "        \n",
    "        for i in range(4):\n",
    "            if vs[i] == 1:\n",
    "                prob_dis[clusters[i]] += reward\n",
    "            elif vs[i] == 2:\n",
    "                prob_dis[clusters[i]] -= penality\n",
    "\n",
    "    radio_values = {\"Positive\" : 1, \"Negative\" : 2, \"Neutral\" : 3}\n",
    "\n",
    "    i = 0\n",
    "    for _ in range(4):\n",
    "        num = np.random.uniform()\n",
    "        #print(num)\n",
    "        if num <= out_chance:\n",
    "            clusters[i] = np.random.randint(0,num_clusters - 1)\n",
    "        else:\n",
    "            num = np.random.uniform()\n",
    "\n",
    "            if num < l1:\n",
    "                clusters[i] = ind[0]\n",
    "            elif num < l2:\n",
    "                clusters[i] = ind[1]\n",
    "            elif num < l3:\n",
    "                clusters[i] = ind[2]\n",
    "            else:\n",
    "                clusters[i] = ind[3]\n",
    "\n",
    "        cluster = clusters[i]\n",
    "\n",
    "        images = os.listdir(\"./model1/clusters/cluster \" + str(cluster) + \"/\")\n",
    "        img = Image.open(\"./model1/clusters/cluster \" + str(cluster) + \"/\" + random.choice(images))\n",
    "\n",
    "        img_gui = ImageTk.PhotoImage(img)\n",
    "\n",
    "        frame = Label(win, image=img_gui)\n",
    "        frame.image = img_gui\n",
    "\n",
    "        if i == 0:\n",
    "            frame.grid(row = 0, column = 0, rowspan = 3)\n",
    "\n",
    "            count = 0\n",
    "            for (text,value) in radio_values.items():\n",
    "                Radiobutton(win, text=text, variable=v1, value=value).grid(row = count, column = 1)\n",
    "                count += 1\n",
    "        elif i == 1:\n",
    "            frame.grid(row = 0, column = 2, rowspan = 3)\n",
    "\n",
    "            count = 0\n",
    "            for (text,value) in radio_values.items():\n",
    "                Radiobutton(win, text=text, variable=v2, value=value).grid(row = count, column = 3)\n",
    "                count += 1\n",
    "        elif i == 2:\n",
    "            frame.grid(row = 3, column = 0, rowspan = 3)\n",
    "\n",
    "            count = 3\n",
    "            for (text,value) in radio_values.items():\n",
    "                Radiobutton(win, text=text, variable=v3, value=value).grid(row = count, column = 1)\n",
    "                count += 1\n",
    "        else:\n",
    "            frame.grid(row = 3, column = 2, rowspan = 3)\n",
    "\n",
    "            count = 3\n",
    "            for (text,value) in radio_values.items():\n",
    "                Radiobutton(win, text=text, variable=v4, value=value).grid(row = count, column = 3)\n",
    "                count += 1\n",
    "\n",
    "        labels.append(frame)\n",
    "\n",
    "        i += 1\n",
    "\n",
    "        end = time.time()\n",
    "\n",
    "        times.append(end - start)\n",
    "\n",
    "show_suggestions()\n",
    "\n",
    "started = True\n",
    "\n",
    "btn = Button(win, command=show_suggestions, text=\"Submit\", anchor=\"center\")\n",
    "btn.grid(row=0,column=4, rowspan=6)\n",
    "\n",
    "win.mainloop()\n",
    "\n",
    "times = np.array(times)\n",
    "\n",
    "print(\"Average time per frame:\", times.mean())\n",
    "print(\"Median time for frame:\", np.median(times))"
   ]
  }
 ],
 "metadata": {
  "kernelspec": {
   "display_name": "Python 3.10.5 64-bit",
   "language": "python",
   "name": "python3"
  },
  "language_info": {
   "codemirror_mode": {
    "name": "ipython",
    "version": 3
   },
   "file_extension": ".py",
   "mimetype": "text/x-python",
   "name": "python",
   "nbconvert_exporter": "python",
   "pygments_lexer": "ipython3",
   "version": "3.10.5"
  },
  "orig_nbformat": 4,
  "vscode": {
   "interpreter": {
    "hash": "e7370f93d1d0cde622a1f8e1c04877d8463912d04d973331ad4851f04de6915a"
   }
  }
 },
 "nbformat": 4,
 "nbformat_minor": 2
}
